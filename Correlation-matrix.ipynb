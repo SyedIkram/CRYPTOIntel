{
 "cells": [
  {
   "cell_type": "code",
   "execution_count": 8,
   "metadata": {},
   "outputs": [
    {
     "name": "stdout",
     "output_type": "stream",
     "text": [
      "            btc_price  eth_price  xrp_price  bch_price  ltc_price  dash_price  \\\n",
      "btc_price    1.000000   0.056489   0.138500   0.145432   0.456949    0.087022   \n",
      "eth_price    0.056489   1.000000   0.033894   0.105575   0.075912    0.028719   \n",
      "xrp_price    0.138500   0.033894   1.000000   0.105125   0.155040    0.069397   \n",
      "bch_price    0.145432   0.105575   0.105125   1.000000   0.199670    0.083837   \n",
      "ltc_price    0.456949   0.075912   0.155040   0.199670   1.000000    0.095685   \n",
      "dash_price   0.087022   0.028719   0.069397   0.083837   0.095685    1.000000   \n",
      "xmr_price    0.263624   0.114220   0.099548   0.278863   0.286540    0.112833   \n",
      "doge_price   0.273953   0.082316   0.183050   0.193727   0.335823    0.114377   \n",
      "\n",
      "            xmr_price  doge_price  \n",
      "btc_price    0.263624    0.273953  \n",
      "eth_price    0.114220    0.082316  \n",
      "xrp_price    0.099548    0.183050  \n",
      "bch_price    0.278863    0.193727  \n",
      "ltc_price    0.286540    0.335823  \n",
      "dash_price   0.112833    0.114377  \n",
      "xmr_price    1.000000    0.299891  \n",
      "doge_price   0.299891    1.000000  \n"
     ]
    }
   ],
   "source": [
    "# !pip install cryptory\n",
    "\n",
    "from cryptory import Cryptory\n",
    "import pandas as pd\n",
    "import seaborn as sns\n",
    "import matplotlib.pyplot as plt\n",
    "\n",
    "# generate price correlation matrix\n",
    "\n",
    "my_cryptory = Cryptory(from_date = \"2010-01-01\")\n",
    "all_coins_df = my_cryptory.extract_bitinfocharts(\"btc\")\n",
    "\n",
    "# coins of interest\n",
    "bitinfocoins = [\"btc\", \"eth\", \"xrp\", \"bch\", \"ltc\", \"dash\", \"xmr\", \"doge\"]\n",
    "for coin in bitinfocoins[1:]:\n",
    "    all_coins_df = all_coins_df.merge(my_cryptory.extract_bitinfocharts(coin), on=\"date\", how=\"left\") \n",
    "    \n",
    "# date column not need for upcoming calculations\n",
    "all_coins_df = all_coins_df.drop('date', axis=1)\n",
    "\n",
    "corr = all_coins_df.pct_change().corr(method='pearson')\n",
    "\n",
    "print(corr)\n",
    "\n",
    "# corr.to_csv(\"coin.csv\")\n"
   ]
  },
  {
   "cell_type": "code",
   "execution_count": 7,
   "metadata": {},
   "outputs": [
    {
     "name": "stdout",
     "output_type": "stream",
     "text": [
      "            btc_price  eth_price  xrp_price  bch_price  ltc_price  dash_price  \\\n",
      "btc_price    1.000000   0.236061   0.234572   0.256849   0.518996    0.321533   \n",
      "eth_price    0.236061   1.000000   0.251343   0.360949   0.291688    0.376163   \n",
      "xrp_price    0.234572   0.251343   1.000000   0.243554   0.298190    0.243969   \n",
      "bch_price    0.256849   0.360949   0.243554   1.000000   0.319732    0.357905   \n",
      "ltc_price    0.518996   0.291688   0.298190   0.319732   1.000000    0.374212   \n",
      "dash_price   0.321533   0.376163   0.243969   0.357905   0.374212    1.000000   \n",
      "xmr_price    0.329997   0.367572   0.213703   0.350960   0.370861    0.445358   \n",
      "doge_price   0.385487   0.292693   0.253881   0.242424   0.451800    0.378633   \n",
      "\n",
      "            xmr_price  doge_price  \n",
      "btc_price    0.329997    0.385487  \n",
      "eth_price    0.367572    0.292693  \n",
      "xrp_price    0.213703    0.253881  \n",
      "bch_price    0.350960    0.242424  \n",
      "ltc_price    0.370861    0.451800  \n",
      "dash_price   0.445358    0.378633  \n",
      "xmr_price    1.000000    0.337880  \n",
      "doge_price   0.337880    1.000000  \n"
     ]
    }
   ],
   "source": [
    "# !pip install cryptory\n",
    "\n",
    "from cryptory import Cryptory\n",
    "import pandas as pd\n",
    "import seaborn as sns\n",
    "import matplotlib.pyplot as plt\n",
    "\n",
    "# generate price correlation matrix\n",
    "\n",
    "my_cryptory = Cryptory(from_date = \"2010-01-01\")\n",
    "all_coins_df = my_cryptory.extract_bitinfocharts(\"btc\")\n",
    "\n",
    "# coins of interest\n",
    "bitinfocoins = [\"btc\", \"eth\", \"xrp\", \"bch\", \"ltc\", \"dash\", \"xmr\", \"doge\"]\n",
    "for coin in bitinfocoins[1:]:\n",
    "    all_coins_df = all_coins_df.merge(my_cryptory.extract_bitinfocharts(coin), on=\"date\", how=\"left\") \n",
    "    \n",
    "# date column not need for upcoming calculations\n",
    "all_coins_df = all_coins_df.drop('date', axis=1)\n",
    "\n",
    "corr = all_coins_df.pct_change().corr(method='spearman')\n",
    "\n",
    "print(corr)\n",
    "# corr.to_csv(\"coin.csv\")\n",
    "\n"
   ]
  },
  {
   "cell_type": "code",
   "execution_count": 9,
   "metadata": {},
   "outputs": [
    {
     "name": "stdout",
     "output_type": "stream",
     "text": [
      "            btc_price  eth_price  xrp_price  bch_price  ltc_price  dash_price  \\\n",
      "btc_price    1.000000   0.173045   0.169820   0.205061   0.386367    0.235289   \n",
      "eth_price    0.173045   1.000000   0.204674   0.314640   0.226431    0.315957   \n",
      "xrp_price    0.169820   0.204674   1.000000   0.204126   0.225594    0.194060   \n",
      "bch_price    0.205061   0.314640   0.204126   1.000000   0.263699    0.306389   \n",
      "ltc_price    0.386367   0.226431   0.225594   0.263699   1.000000    0.287727   \n",
      "dash_price   0.235289   0.315957   0.194060   0.306389   0.287727    1.000000   \n",
      "xmr_price    0.240397   0.311262   0.168435   0.302689   0.284360    0.370737   \n",
      "doge_price   0.285018   0.239304   0.203303   0.207109   0.351612    0.310409   \n",
      "\n",
      "            xmr_price  doge_price  \n",
      "btc_price    0.240397    0.285018  \n",
      "eth_price    0.311262    0.239304  \n",
      "xrp_price    0.168435    0.203303  \n",
      "bch_price    0.302689    0.207109  \n",
      "ltc_price    0.284360    0.351612  \n",
      "dash_price   0.370737    0.310409  \n",
      "xmr_price    1.000000    0.273812  \n",
      "doge_price   0.273812    1.000000  \n"
     ]
    }
   ],
   "source": [
    "# !pip install cryptory\n",
    "\n",
    "from cryptory import Cryptory\n",
    "import pandas as pd\n",
    "import seaborn as sns\n",
    "import matplotlib.pyplot as plt\n",
    "\n",
    "# generate price correlation matrix\n",
    "\n",
    "my_cryptory = Cryptory(from_date = \"2010-01-01\")\n",
    "all_coins_df = my_cryptory.extract_bitinfocharts(\"btc\")\n",
    "\n",
    "# coins of interest\n",
    "bitinfocoins = [\"btc\", \"eth\", \"xrp\", \"bch\", \"ltc\", \"dash\", \"xmr\", \"doge\"]\n",
    "for coin in bitinfocoins[1:]:\n",
    "    all_coins_df = all_coins_df.merge(my_cryptory.extract_bitinfocharts(coin), on=\"date\", how=\"left\") \n",
    "    \n",
    "# date column not need for upcoming calculations\n",
    "all_coins_df = all_coins_df.drop('date', axis=1)\n",
    "\n",
    "corr = all_coins_df.pct_change().corr(method='kendall')\n",
    "\n",
    "print(corr)\n",
    "# corr.to_csv(\"coin.csv\")"
   ]
  },
  {
   "cell_type": "code",
   "execution_count": null,
   "metadata": {},
   "outputs": [],
   "source": []
  }
 ],
 "metadata": {
  "kernelspec": {
   "display_name": "Python 3",
   "language": "python",
   "name": "python3"
  },
  "language_info": {
   "codemirror_mode": {
    "name": "ipython",
    "version": 3
   },
   "file_extension": ".py",
   "mimetype": "text/x-python",
   "name": "python",
   "nbconvert_exporter": "python",
   "pygments_lexer": "ipython3",
   "version": "3.7.2"
  }
 },
 "nbformat": 4,
 "nbformat_minor": 2
}
