{
 "cells": [
  {
   "cell_type": "code",
   "execution_count": 26,
   "metadata": {},
   "outputs": [],
   "source": [
    "# !pip install cryptory\n",
    "\n",
    "from cryptory import Cryptory\n",
    "import pandas as pd\n",
    "import seaborn as sns\n",
    "import matplotlib.pyplot as plt\n",
    "\n",
    "# generate price correlation matrix\n",
    "\n",
    "my_cryptory = Cryptory(from_date = \"2010-01-01\")\n",
    "all_coins_df = my_cryptory.extract_bitinfocharts(\"btc\")\n",
    "\n",
    "# coins of interest\n",
    "bitinfocoins = [\"btc\", \"eth\", \"xrp\", \"bch\", \"ltc\", \"dash\", \"xmr\", \"doge\"]\n",
    "\n",
    "for coin in bitinfocoins[1:]:\n",
    "    all_coins_df = all_coins_df.merge(my_cryptory.extract_bitinfocharts(coin), on=\"date\", how=\"left\") \n",
    "    \n",
    "# date column not need for upcoming calculations\n",
    "all_coins_df = all_coins_df.drop('date', axis=1)\n",
    "\n",
    "corr = all_coins_df.pct_change().corr(method='pearson')\n",
    "corr.rename(columns={'btc_price':'Bitcoin','eth_price':'Ethereum','xrp_price':'Ripple','bch_price':'Bitcoin Cash',\\\n",
    "                     'ltc_price':'Litecoin','dash_price':'Dashcoin','xmr_price':'Monero','doge_price':'Dogecoin'}, inplace=True)\n",
    "corr.rename(index={'btc_price':'Bitcoin','eth_price':'Ethereum','xrp_price':'Ripple','bch_price':'Bitcoin Cash',\\\n",
    "                     'ltc_price':'Litecoin','dash_price':'Dashcoin','xmr_price':'Monero','doge_price':'Dogecoin'}, inplace=True)\n",
    "# print(corr)\n",
    "\n",
    "corr.to_csv(\"Pearcoin.csv\")"
   ]
  },
  {
   "cell_type": "code",
   "execution_count": null,
   "metadata": {},
   "outputs": [],
   "source": []
  },
  {
   "cell_type": "code",
   "execution_count": 28,
   "metadata": {},
   "outputs": [],
   "source": [
    "# !pip install cryptory\n",
    "\n",
    "# generate price correlation matrix\n",
    "\n",
    "my_cryptory = Cryptory(from_date = \"2010-01-01\")\n",
    "all_coins_df = my_cryptory.extract_bitinfocharts(\"btc\")\n",
    "\n",
    "# coins of interest\n",
    "bitinfocoins = [\"btc\", \"eth\", \"xrp\", \"bch\", \"ltc\", \"dash\", \"xmr\", \"doge\"]\n",
    "for coin in bitinfocoins[1:]:\n",
    "    all_coins_df = all_coins_df.merge(my_cryptory.extract_bitinfocharts(coin), on=\"date\", how=\"left\") \n",
    "    \n",
    "# date column not need for upcoming calculations\n",
    "all_coins_df = all_coins_df.drop('date', axis=1)\n",
    "\n",
    "corr = all_coins_df.pct_change().corr(method='spearman')\n",
    "\n",
    "corr.rename(columns={'btc_price':'Bitcoin','eth_price':'Ethereum','xrp_price':'Ripple','bch_price':'Bitcoin Cash',\\\n",
    "                     'ltc_price':'Litecoin','dash_price':'Dashcoin','xmr_price':'Monero','doge_price':'Dogecoin'}, inplace=True)\n",
    "corr.rename(index={'btc_price':'Bitcoin','eth_price':'Ethereum','xrp_price':'Ripple','bch_price':'Bitcoin Cash',\\\n",
    "                     'ltc_price':'Litecoin','dash_price':'Dashcoin','xmr_price':'Monero','doge_price':'Dogecoin'}, inplace=True)\n",
    "corr.to_csv(\"Spmcoin.csv\")\n",
    "\n"
   ]
  },
  {
   "cell_type": "code",
   "execution_count": 29,
   "metadata": {},
   "outputs": [],
   "source": [
    "# !pip install cryptory\n",
    "\n",
    "from cryptory import Cryptory\n",
    "import pandas as pd\n",
    "import seaborn as sns\n",
    "import matplotlib.pyplot as plt\n",
    "\n",
    "# generate price correlation matrix\n",
    "\n",
    "my_cryptory = Cryptory(from_date = \"2010-01-01\")\n",
    "all_coins_df = my_cryptory.extract_bitinfocharts(\"btc\")\n",
    "\n",
    "# coins of interest\n",
    "bitinfocoins = [\"btc\", \"eth\", \"xrp\", \"bch\", \"ltc\", \"dash\", \"xmr\", \"doge\"]\n",
    "for coin in bitinfocoins[1:]:\n",
    "    all_coins_df = all_coins_df.merge(my_cryptory.extract_bitinfocharts(coin), on=\"date\", how=\"left\") \n",
    "    \n",
    "# date column not need for upcoming calculations\n",
    "all_coins_df = all_coins_df.drop('date', axis=1)\n",
    "\n",
    "corr = all_coins_df.pct_change().corr(method='kendall')\n",
    "\n",
    "corr.rename(columns={'btc_price':'Bitcoin','eth_price':'Ethereum','xrp_price':'Ripple','bch_price':'Bitcoin Cash',\\\n",
    "                     'ltc_price':'Litecoin','dash_price':'Dashcoin','xmr_price':'Monero','doge_price':'Dogecoin'}, inplace=True)\n",
    "corr.rename(index={'btc_price':'Bitcoin','eth_price':'Ethereum','xrp_price':'Ripple','bch_price':'Bitcoin Cash',\\\n",
    "                     'ltc_price':'Litecoin','dash_price':'Dashcoin','xmr_price':'Monero','doge_price':'Dogecoin'}, inplace=True)\n",
    "corr.to_csv(\"Kendcoin.csv\")"
   ]
  },
  {
   "cell_type": "code",
   "execution_count": null,
   "metadata": {},
   "outputs": [],
   "source": []
  }
 ],
 "metadata": {
  "kernelspec": {
   "display_name": "Python 3",
   "language": "python",
   "name": "python3"
  },
  "language_info": {
   "codemirror_mode": {
    "name": "ipython",
    "version": 3
   },
   "file_extension": ".py",
   "mimetype": "text/x-python",
   "name": "python",
   "nbconvert_exporter": "python",
   "pygments_lexer": "ipython3",
   "version": "3.6.8"
  }
 },
 "nbformat": 4,
 "nbformat_minor": 2
}
