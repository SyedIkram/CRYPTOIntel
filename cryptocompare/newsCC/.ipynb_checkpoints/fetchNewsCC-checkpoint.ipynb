{
 "cells": [
  {
   "cell_type": "code",
   "execution_count": 5,
   "metadata": {},
   "outputs": [],
   "source": [
    "# Cache 120 sec = 2 min\n",
    "\n",
    "import requests\n",
    "import pandas as pd\n",
    "import json\n",
    "import time\n",
    "import os\n",
    "import datetime\n",
    "from pandas.io.json import json_normalize\n",
    "from cassandra import ConsistencyLevel\n",
    "from cassandra.cluster import Cluster\n",
    "from cassandra.query import SimpleStatement\n",
    "from pytz import timezone"
   ]
  },
  {
   "cell_type": "code",
   "execution_count": 24,
   "metadata": {},
   "outputs": [],
   "source": [
    "class fetchNewsCC:\n",
    "    def __init__(self,url,api_key='',sort_order='Latest'):\n",
    "        if api_key:\n",
    "            url += '&api_key={}'.format(api_key)\n",
    "        if sort_order:\n",
    "            url += '&sortOrder={}'.format(sort_order)\n",
    "        self.api_key = api_key\n",
    "        self.url = url\n",
    "        print(\"URL Created: \" + self.url)\n",
    "        \n",
    "    def getJSON(self):\n",
    "        req=requests.get(self.url)\n",
    "        json_obj = req.json()\n",
    "        return json_obj\n",
    "    \n",
    "    def formatPD(self,newsPD,col_name):\n",
    "        newsPD = newsPD.rename(index=str, columns={\"source_info.img\": \"source_info_img\",\\\n",
    "                                           \"source_info.name\":\"source_info_name\",\"source_info.lang\":\"source_info_lang\"})\n",
    "        newsPD['tags'] = newsPD['tags'].apply(lambda x: x.split('|'))\n",
    "        newsPD['categories'] = newsPD['categories'].apply(lambda x: x.split('|'))\n",
    "        newsPD['published_on'] = newsPD['published_on'].apply(lambda x: self.convertToPstSeq(x))\n",
    "        newsPD['source_info_name'] = newsPD['source_info_name'].fillna('unknown')\n",
    "        newsPD['source_info_lang'] = newsPD['source_info_lang'].fillna('unknown')\n",
    "        newsPD['source_info_img'] = newsPD['source_info_img'].fillna('unknown')\n",
    "        newsPD['downvotes'] = newsPD['downvotes'].fillna(0)\n",
    "        newsPD['guid'] = newsPD['guid'].fillna('unknown')\n",
    "        newsPD['imageurl'] = newsPD['imageurl'].fillna('not_found')\n",
    "        newsPD['lang'] = newsPD['lang'].fillna('EN')\n",
    "        newsPD['source'] = newsPD['source'].fillna('unknown')\n",
    "        newsPD['upvotes'] = newsPD['upvotes'].fillna(0)\n",
    "        newsPD['url'] = newsPD['url'].fillna('not_found')\n",
    "        return newsPD\n",
    "    \n",
    "    def jsonToPandas(self,json_obj):\n",
    "        pd = json_normalize(json_obj)\n",
    "        return pd\n",
    "    \n",
    "    def createSessionCassandra(self,key_space):\n",
    "        self.cluster = Cluster(['127.0.0.1'],load_balancing_policy=None)\n",
    "        self.session = self.cluster.connect()\n",
    "        self.session.set_keyspace(key_space)\n",
    "        \n",
    "    def convertToPstSeq(self,inp_time):\n",
    "        return datetime.datetime.fromtimestamp(int(inp_time)).astimezone(timezone('US/Pacific')).strftime('%Y%m%d%H%M%S')\n",
    "        \n",
    "    def checkTable(self,table_name):        \n",
    "        self.session.execute(\"\"\"CREATE TABLE IF NOT EXISTS \"\"\" + table_name + \"\"\" (\n",
    "            body TEXT,\n",
    "            categories list<text>,\n",
    "            downvotes TEXT,\n",
    "            guid TEXT,\n",
    "            id INT,\n",
    "            imageurl TEXT,\n",
    "            lang TEXT,\n",
    "            published_on DOUBLE,\n",
    "            source TEXT,\n",
    "            source_info_img TEXT,\n",
    "            source_info_lang TEXT,\n",
    "            source_info_name TEXT,\n",
    "            tags list<text>,\n",
    "            title TEXT,\n",
    "            upvotes INT,\n",
    "            url TEXT,\n",
    "            sortmentainer INT,\n",
    "            PRIMARY KEY(sortmentainer,published_on,id))\n",
    "            WITH CLUSTERING ORDER BY (published_on DESC);\n",
    "            \"\"\")        \n",
    "    \n",
    "    def pdToCassandra(self,table_name,pd,sorter):\n",
    "        self.checkTable(table_name)\n",
    "        query = \"\"\"INSERT INTO \"\"\"+ table_name +\"\"\" (\n",
    "        sortmentainer,body,categories,downvotes,guid,id,imageurl,lang,\n",
    "        published_on,source,source_info_img,source_info_lang,source_info_name,\n",
    "        tags,title,upvotes,url) VALUES\n",
    "        (?,?,?,?,?,?,?,?,?,?,?,?,?,?,?,?,?)\"\"\"\n",
    "        prepared = self.session.prepare(query)\n",
    "        for index, df_iter in pd.iterrows():\n",
    "            self.session.execute(prepared,\\\n",
    "                             (int(sorter),df_iter['body'], df_iter['categories'], df_iter['downvotes'], df_iter['guid'], int(df_iter['id']),\\\n",
    "                             df_iter['imageurl'], df_iter['lang'], float(df_iter['published_on']), df_iter['source'], df_iter['source_info_img'],\\\n",
    "                             df_iter['source_info_lang'], df_iter['source_info_name'],df_iter['tags'], df_iter['title'], int(df_iter['upvotes']),\\\n",
    "                             df_iter['url']))\n",
    "        "
   ]
  },
  {
   "cell_type": "code",
   "execution_count": 25,
   "metadata": {},
   "outputs": [],
   "source": [
    "api_key = '23489088ccc5e95cef763cbedd2d27588a979595edb097f53f40ad7d76239d41'\n",
    "sortOrder = 'Latest'\n",
    "categories = 'ALL_NEWS_CATEGORIES'\n",
    "key_space = 'crypton'"
   ]
  },
  {
   "cell_type": "code",
   "execution_count": 26,
   "metadata": {},
   "outputs": [
    {
     "name": "stdout",
     "output_type": "stream",
     "text": [
      "URL Created: https://min-api.cryptocompare.com/data/v2/news/?lang=EN&sortOrder=Latest\n"
     ]
    },
    {
     "ename": "AttributeError",
     "evalue": "'float' object has no attribute 'encode'",
     "output_type": "error",
     "traceback": [
      "\u001b[0;31m---------------------------------------------------------------------------\u001b[0m",
      "\u001b[0;31mAttributeError\u001b[0m                            Traceback (most recent call last)",
      "\u001b[0;32m<ipython-input-26-025449f76cc9>\u001b[0m in \u001b[0;36m<module>\u001b[0;34m\u001b[0m\n\u001b[1;32m      8\u001b[0m     \u001b[0mnewsPD\u001b[0m \u001b[0;34m=\u001b[0m \u001b[0mF2\u001b[0m\u001b[0;34m.\u001b[0m\u001b[0mformatPD\u001b[0m\u001b[0;34m(\u001b[0m\u001b[0mnewsPD\u001b[0m\u001b[0;34m,\u001b[0m\u001b[0;34m'published_on'\u001b[0m\u001b[0;34m)\u001b[0m\u001b[0;34m\u001b[0m\u001b[0;34m\u001b[0m\u001b[0m\n\u001b[1;32m      9\u001b[0m     \u001b[0mF2\u001b[0m\u001b[0;34m.\u001b[0m\u001b[0mcreateSessionCassandra\u001b[0m\u001b[0;34m(\u001b[0m\u001b[0mkey_space\u001b[0m\u001b[0;34m)\u001b[0m\u001b[0;34m\u001b[0m\u001b[0;34m\u001b[0m\u001b[0m\n\u001b[0;32m---> 10\u001b[0;31m     \u001b[0mF2\u001b[0m\u001b[0;34m.\u001b[0m\u001b[0mpdToCassandra\u001b[0m\u001b[0;34m(\u001b[0m\u001b[0;34m'news_cc'\u001b[0m\u001b[0;34m,\u001b[0m\u001b[0mnewsPD\u001b[0m\u001b[0;34m,\u001b[0m\u001b[0;36m1\u001b[0m\u001b[0;34m)\u001b[0m\u001b[0;34m\u001b[0m\u001b[0;34m\u001b[0m\u001b[0m\n\u001b[0m\u001b[1;32m     11\u001b[0m     \u001b[0mtime\u001b[0m\u001b[0;34m.\u001b[0m\u001b[0msleep\u001b[0m\u001b[0;34m(\u001b[0m\u001b[0;36m120\u001b[0m\u001b[0;34m)\u001b[0m\u001b[0;34m\u001b[0m\u001b[0;34m\u001b[0m\u001b[0m\n",
      "\u001b[0;32m<ipython-input-24-b75a46ac4773>\u001b[0m in \u001b[0;36mpdToCassandra\u001b[0;34m(self, table_name, pd, sorter)\u001b[0m\n\u001b[1;32m     80\u001b[0m                              \u001b[0mdf_iter\u001b[0m\u001b[0;34m[\u001b[0m\u001b[0;34m'imageurl'\u001b[0m\u001b[0;34m]\u001b[0m\u001b[0;34m,\u001b[0m \u001b[0mdf_iter\u001b[0m\u001b[0;34m[\u001b[0m\u001b[0;34m'lang'\u001b[0m\u001b[0;34m]\u001b[0m\u001b[0;34m,\u001b[0m \u001b[0mfloat\u001b[0m\u001b[0;34m(\u001b[0m\u001b[0mdf_iter\u001b[0m\u001b[0;34m[\u001b[0m\u001b[0;34m'published_on'\u001b[0m\u001b[0;34m]\u001b[0m\u001b[0;34m)\u001b[0m\u001b[0;34m,\u001b[0m \u001b[0mdf_iter\u001b[0m\u001b[0;34m[\u001b[0m\u001b[0;34m'source'\u001b[0m\u001b[0;34m]\u001b[0m\u001b[0;34m,\u001b[0m \u001b[0mdf_iter\u001b[0m\u001b[0;34m[\u001b[0m\u001b[0;34m'source_info_img'\u001b[0m\u001b[0;34m]\u001b[0m\u001b[0;34m,\u001b[0m\u001b[0;31m\\\u001b[0m\u001b[0;34m\u001b[0m\u001b[0;34m\u001b[0m\u001b[0m\n\u001b[1;32m     81\u001b[0m                              \u001b[0mdf_iter\u001b[0m\u001b[0;34m[\u001b[0m\u001b[0;34m'source_info_lang'\u001b[0m\u001b[0;34m]\u001b[0m\u001b[0;34m,\u001b[0m \u001b[0mdf_iter\u001b[0m\u001b[0;34m[\u001b[0m\u001b[0;34m'source_info_name'\u001b[0m\u001b[0;34m]\u001b[0m\u001b[0;34m,\u001b[0m\u001b[0mdf_iter\u001b[0m\u001b[0;34m[\u001b[0m\u001b[0;34m'tags'\u001b[0m\u001b[0;34m]\u001b[0m\u001b[0;34m,\u001b[0m \u001b[0mdf_iter\u001b[0m\u001b[0;34m[\u001b[0m\u001b[0;34m'title'\u001b[0m\u001b[0;34m]\u001b[0m\u001b[0;34m,\u001b[0m \u001b[0mint\u001b[0m\u001b[0;34m(\u001b[0m\u001b[0mdf_iter\u001b[0m\u001b[0;34m[\u001b[0m\u001b[0;34m'upvotes'\u001b[0m\u001b[0;34m]\u001b[0m\u001b[0;34m)\u001b[0m\u001b[0;34m,\u001b[0m\u001b[0;31m\\\u001b[0m\u001b[0;34m\u001b[0m\u001b[0;34m\u001b[0m\u001b[0m\n\u001b[0;32m---> 82\u001b[0;31m                              df_iter['url']))\n\u001b[0m\u001b[1;32m     83\u001b[0m \u001b[0;34m\u001b[0m\u001b[0m\n",
      "\u001b[0;32m/anaconda3/lib/python3.6/site-packages/cassandra/cluster.cpython-36m-darwin.so\u001b[0m in \u001b[0;36mcassandra.cluster.Session.execute\u001b[0;34m()\u001b[0m\n",
      "\u001b[0;32m/anaconda3/lib/python3.6/site-packages/cassandra/cluster.cpython-36m-darwin.so\u001b[0m in \u001b[0;36mcassandra.cluster.Session.execute_async\u001b[0;34m()\u001b[0m\n",
      "\u001b[0;32m/anaconda3/lib/python3.6/site-packages/cassandra/cluster.cpython-36m-darwin.so\u001b[0m in \u001b[0;36mcassandra.cluster.Session._create_response_future\u001b[0;34m()\u001b[0m\n",
      "\u001b[0;32m/anaconda3/lib/python3.6/site-packages/cassandra/query.cpython-36m-darwin.so\u001b[0m in \u001b[0;36mcassandra.query.PreparedStatement.bind\u001b[0;34m()\u001b[0m\n",
      "\u001b[0;32m/anaconda3/lib/python3.6/site-packages/cassandra/query.cpython-36m-darwin.so\u001b[0m in \u001b[0;36mcassandra.query.BoundStatement.bind\u001b[0;34m()\u001b[0m\n",
      "\u001b[0;32m/anaconda3/lib/python3.6/site-packages/cassandra/cqltypes.cpython-36m-darwin.so\u001b[0m in \u001b[0;36mcassandra.cqltypes.UTF8Type.serialize\u001b[0;34m()\u001b[0m\n",
      "\u001b[0;31mAttributeError\u001b[0m: 'float' object has no attribute 'encode'"
     ]
    }
   ],
   "source": [
    "#Fetch latest News\n",
    "url = 'https://min-api.cryptocompare.com/data/v2/news/?lang=EN'\n",
    "while (True):\n",
    "    F2 = fetchNewsCC(url)\n",
    "    jsonNews = F2.getJSON()\n",
    "    # print(jsonNews)\n",
    "    newsPD = F2.jsonToPandas(jsonNews['Data'])\n",
    "    newsPD = F2.formatPD(newsPD,'published_on')\n",
    "    F2.createSessionCassandra(key_space)\n",
    "    F2.pdToCassandra('news_cc',newsPD,1)\n",
    "    time.sleep(120)"
   ]
  },
  {
   "cell_type": "code",
   "execution_count": null,
   "metadata": {},
   "outputs": [],
   "source": [
    "from datetime import timedelta, date\n",
    "\n",
    "list_datre_range = []\n",
    "pattern = '%Y-%m-%d %H:%M:%S'\n",
    "\n",
    "def daterange(start_date, end_date):\n",
    "    for n in range(int ((end_date - start_date).days)):\n",
    "        yield start_date + timedelta(n)\n",
    "\n",
    "start_date = date(2017, 6, 10)\n",
    "end_date = date(2019, 2, 20)\n",
    "for single_date in daterange(start_date, end_date):\n",
    "    date_time = str(single_date.strftime(\"%Y-%m-%d\") + ' 00:00:00')\n",
    "    list_datre_range.append(int(time.mktime(time.strptime(date_time, pattern))))"
   ]
  },
  {
   "cell_type": "code",
   "execution_count": null,
   "metadata": {},
   "outputs": [],
   "source": [
    "# list_datre_range\n",
    "\n",
    "url = 'https://min-api.cryptocompare.com/data/v2/news/?lang=EN&lTs='\n",
    "for ts in list_datre_range:\n",
    "    F2 = fetchNewsCC(url + str(ts))\n",
    "    jsonNews = F2.getJSON()\n",
    "    # print(jsonNews)\n",
    "    newsPD = F2.jsonToPandas(jsonNews['Data'])\n",
    "    newsPD = F2.formatPD(newsPD,'published_on')\n",
    "    F2.createSessionCassandra(key_space)\n",
    "    F2.pdToCassandra('news_cc',newsPD,0)"
   ]
  },
  {
   "cell_type": "code",
   "execution_count": null,
   "metadata": {},
   "outputs": [],
   "source": [
    "cluster = Cluster(['127.0.0.1'],load_balancing_policy=None)\n",
    "session = cluster.connect()\n",
    "session.set_keyspace(key_space) "
   ]
  },
  {
   "cell_type": "code",
   "execution_count": 15,
   "metadata": {},
   "outputs": [],
   "source": [
    "# Cassandra to CSV\n",
    "def cassandraToCsv():\n",
    "    query = \"SELECT * FROM news_cc;\"\n",
    "    future = session.execute(query)\n",
    "    \n",
    "    return future\n",
    "    \n",
    "df = pd.DataFrame(list(cassandraToCsv()))\n",
    "    \n",
    "df.to_csv('NewsData.csv',index=False)"
   ]
  },
  {
   "cell_type": "code",
   "execution_count": null,
   "metadata": {},
   "outputs": [],
   "source": []
  }
 ],
 "metadata": {
  "kernelspec": {
   "display_name": "Python 3",
   "language": "python",
   "name": "python3"
  },
  "language_info": {
   "codemirror_mode": {
    "name": "ipython",
    "version": 3
   },
   "file_extension": ".py",
   "mimetype": "text/x-python",
   "name": "python",
   "nbconvert_exporter": "python",
   "pygments_lexer": "ipython3",
   "version": "3.6.8"
  }
 },
 "nbformat": 4,
 "nbformat_minor": 2
}
