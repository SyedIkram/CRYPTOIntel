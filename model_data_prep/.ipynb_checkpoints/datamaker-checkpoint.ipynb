{
 "cells": [
  {
   "cell_type": "code",
   "execution_count": 1,
   "metadata": {},
   "outputs": [],
   "source": [
    "import pandas as pd\n",
    "from textblob import TextBlob\n",
    "import datetime"
   ]
  },
  {
   "cell_type": "code",
   "execution_count": 52,
   "metadata": {},
   "outputs": [],
   "source": [
    "histDataDF = pd.read_csv('btcHistData.csv')\n",
    "\n",
    "for i in range(1,8):\n",
    "    histDataDF['prev_day_'+str(i)] = histDataDF['Weighted_Price'].shift(i)\n",
    "    \n",
    "histDataDF['date'] = histDataDF['Timestamp'].apply(lambda x: str(x)[:10])\n",
    "histDataDF = histDataDF[7:].reset_index()\n",
    "del histDataDF['index']\n",
    "histDataDF['day_of_year'] = histDataDF['date'].apply(lambda x: datetime.datetime.strptime(str(x),'%Y-%m-%d').timetuple().tm_yday)\n",
    "del histDataDF['Timestamp'] \n",
    "del histDataDF['Close'] \n",
    "del histDataDF['High']\n",
    "del histDataDF['Low'] \n",
    "del histDataDF['Open'] \n",
    "del histDataDF['date'] "
   ]
  },
  {
   "cell_type": "code",
   "execution_count": 53,
   "metadata": {},
   "outputs": [],
   "source": [
    "histDataDF.to_csv('modelBtcData.csv',index=False)"
   ]
  },
  {
   "cell_type": "code",
   "execution_count": 10,
   "metadata": {},
   "outputs": [],
   "source": [
    "datelist = histDataDF['date'].tolist()"
   ]
  },
  {
   "cell_type": "code",
   "execution_count": 23,
   "metadata": {},
   "outputs": [
    {
     "data": {
      "text/plain": [
       "1535"
      ]
     },
     "execution_count": 23,
     "metadata": {},
     "output_type": "execute_result"
    }
   ],
   "source": [
    "newsDF = pd.read_csv('btcnews.csv')\n",
    "len(datelist)"
   ]
  },
  {
   "cell_type": "code",
   "execution_count": 34,
   "metadata": {},
   "outputs": [],
   "source": [
    "newsDF['sentiment'] = newsDF['body'].apply(lambda x: 1 if TextBlob(str(x)).sentiment.polarity > 0 else (0 if TextBlob(str(x)).sentiment.polarity == 0 else -1))"
   ]
  },
  {
   "cell_type": "code",
   "execution_count": 35,
   "metadata": {},
   "outputs": [],
   "source": [
    "newsDFnew = newsDF[['date','sentiment']]"
   ]
  },
  {
   "cell_type": "code",
   "execution_count": 36,
   "metadata": {},
   "outputs": [],
   "source": [
    "# newsDFnew['date'] = newsDFnew['published_on'].apply(lambda x: str(x)[:4] + '-' + str(x)[5:7]+ '-' + str(x)[8:10])\n",
    "# del newsDFnew['published_on']"
   ]
  },
  {
   "cell_type": "code",
   "execution_count": 37,
   "metadata": {},
   "outputs": [
    {
     "data": {
      "text/plain": [
       "date\n",
       "2013-08-05     1\n",
       "2013-08-27     1\n",
       "2013-09-01    -1\n",
       "2013-09-04     1\n",
       "2013-10-01     1\n",
       "2013-10-03     1\n",
       "2013-10-04     1\n",
       "2013-10-08     1\n",
       "2013-10-23     1\n",
       "2013-10-28     1\n",
       "2013-10-30     1\n",
       "2013-10-31     1\n",
       "2013-11-01     2\n",
       "2013-11-03     1\n",
       "2013-11-04     0\n",
       "2013-11-06     1\n",
       "2013-11-08     0\n",
       "2013-11-12     0\n",
       "2013-11-14     2\n",
       "2014-06-10     1\n",
       "2016-06-16     2\n",
       "2016-06-25     2\n",
       "2016-08-23     2\n",
       "2017-02-12     2\n",
       "2017-02-19     2\n",
       "2017-03-13     2\n",
       "2017-03-27     2\n",
       "2017-06-15     2\n",
       "2017-06-29     1\n",
       "2017-07-04     1\n",
       "              ..\n",
       "2019-02-19    22\n",
       "2019-02-20    14\n",
       "2019-02-21     9\n",
       "2019-02-22    22\n",
       "2019-02-23    18\n",
       "2019-02-24    25\n",
       "2019-02-25    18\n",
       "2019-02-26    15\n",
       "2019-02-27    17\n",
       "2019-02-28    19\n",
       "2019-03-01    12\n",
       "2019-03-02    12\n",
       "2019-03-03    11\n",
       "2019-03-04    13\n",
       "2019-03-05    21\n",
       "2019-03-06    15\n",
       "2019-03-07    21\n",
       "2019-03-08    21\n",
       "2019-03-09    18\n",
       "2019-03-10    25\n",
       "2019-03-11    17\n",
       "2019-03-12    25\n",
       "2019-03-13     5\n",
       "2019-03-14    13\n",
       "2019-03-15    13\n",
       "2019-03-16    14\n",
       "2019-03-17    17\n",
       "2019-03-18    18\n",
       "2019-03-19    15\n",
       "2019-03-22    13\n",
       "Name: sentiment, Length: 597, dtype: int64"
      ]
     },
     "execution_count": 37,
     "metadata": {},
     "output_type": "execute_result"
    }
   ],
   "source": [
    "newsDFnew = newsDFnew.groupby(['date']).sentiment.agg('sum')\n",
    "# newsDFnew = df[df['A'].isin([3, 6])]\n",
    "newsDFnew#.to_csv('hello.csv',index=False)"
   ]
  },
  {
   "cell_type": "code",
   "execution_count": 38,
   "metadata": {},
   "outputs": [
    {
     "data": {
      "text/plain": [
       "597"
      ]
     },
     "execution_count": 38,
     "metadata": {},
     "output_type": "execute_result"
    }
   ],
   "source": [
    "newsDFnew.count()"
   ]
  },
  {
   "cell_type": "code",
   "execution_count": 12,
   "metadata": {},
   "outputs": [
    {
     "data": {
      "text/plain": [
       "'file:///Users/tusharkapoor/Documents/SFU_Studies/SEM_2/cmpt733/Big_Data_2_project/cryptointel/model_data_prep/temp-plot.html'"
      ]
     },
     "execution_count": 12,
     "metadata": {},
     "output_type": "execute_result"
    }
   ],
   "source": [
    "import plotly_express as px\n",
    "import plotly\n",
    "\n",
    "\n",
    "\n",
    "plotly.offline.plot(px.scatter(gapminder, x=\"gdpPercap\", y=\"lifeExp\", size=\"pop\", color=\"continent\", \n",
    "           hover_name=\"country\", log_x=True, size_max=60))"
   ]
  },
  {
   "cell_type": "code",
   "execution_count": null,
   "metadata": {},
   "outputs": [],
   "source": []
  }
 ],
 "metadata": {
  "kernelspec": {
   "display_name": "Python 3",
   "language": "python",
   "name": "python3"
  },
  "language_info": {
   "codemirror_mode": {
    "name": "ipython",
    "version": 3
   },
   "file_extension": ".py",
   "mimetype": "text/x-python",
   "name": "python",
   "nbconvert_exporter": "python",
   "pygments_lexer": "ipython3",
   "version": "3.6.8"
  }
 },
 "nbformat": 4,
 "nbformat_minor": 2
}
