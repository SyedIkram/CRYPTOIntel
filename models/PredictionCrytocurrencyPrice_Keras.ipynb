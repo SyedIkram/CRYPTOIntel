{
  "nbformat": 4,
  "nbformat_minor": 0,
  "metadata": {
    "colab": {
      "name": "PredictionCrytocurrencyPrice_Keras.ipynb",
      "version": "0.3.2",
      "provenance": [],
      "collapsed_sections": []
    },
    "kernelspec": {
      "name": "python3",
      "display_name": "Python 3"
    },
    "accelerator": "GPU"
  },
  "cells": [
    {
      "metadata": {
        "id": "dxwWlGYBzxBt",
        "colab_type": "code",
        "colab": {}
      },
      "cell_type": "code",
      "source": [
        "import pandas as pd\n",
        "import time\n",
        "import seaborn as sns\n",
        "import datetime\n",
        "import numpy as np\n",
        "from math import sqrt\n",
        "from matplotlib import pyplot\n",
        "from sklearn.preprocessing import MinMaxScaler\n",
        "from sklearn.preprocessing import LabelEncoder\n",
        "from sklearn.metrics import mean_squared_error\n",
        "from keras.models import Sequential\n",
        "from keras.layers import Dense\n",
        "from keras.layers import LSTM\n",
        "from keras.layers import Activation, Dense\n",
        "import requests\n",
        "\n",
        "pd.set_option('float_format', '{:f}'.format)"
      ],
      "execution_count": 0,
      "outputs": []
    },
    {
      "metadata": {
        "id": "a6RwlScj0OeM",
        "colab_type": "code",
        "colab": {}
      },
      "cell_type": "code",
      "source": [
        "SYM = 'BTC'\n",
        "data = pd.read_csv(SYM+'HistData.csv')[29:].reset_index(drop=True)\n",
        "data['time'] = pd.to_datetime(data['time']).dt.normalize()\n",
        "data['Weighted_Price'] = (data['close'] + data['high'] +  data['low'] + data['open'] ) /4\n",
        "del data['id']\n",
        "del data['symbol']\n",
        "data = data.reset_index(drop=True)\n",
        "last_week_hist = data[-6:]"
      ],
      "execution_count": 0,
      "outputs": []
    },
    {
      "metadata": {
        "id": "xBmPe_RI0XGv",
        "colab_type": "code",
        "outputId": "6d1e6e20-818f-41dc-9aa7-d4d6581fdbb6",
        "colab": {
          "base_uri": "https://localhost:8080/",
          "height": 204
        }
      },
      "cell_type": "code",
      "source": [
        "data.tail(5)"
      ],
      "execution_count": 20,
      "outputs": [
        {
          "output_type": "execute_result",
          "data": {
            "text/html": [
              "<div>\n",
              "<style scoped>\n",
              "    .dataframe tbody tr th:only-of-type {\n",
              "        vertical-align: middle;\n",
              "    }\n",
              "\n",
              "    .dataframe tbody tr th {\n",
              "        vertical-align: top;\n",
              "    }\n",
              "\n",
              "    .dataframe thead th {\n",
              "        text-align: right;\n",
              "    }\n",
              "</style>\n",
              "<table border=\"1\" class=\"dataframe\">\n",
              "  <thead>\n",
              "    <tr style=\"text-align: right;\">\n",
              "      <th></th>\n",
              "      <th>time</th>\n",
              "      <th>close</th>\n",
              "      <th>high</th>\n",
              "      <th>low</th>\n",
              "      <th>open</th>\n",
              "      <th>volumefrom</th>\n",
              "      <th>volumeto</th>\n",
              "      <th>Weighted_Price</th>\n",
              "    </tr>\n",
              "  </thead>\n",
              "  <tbody>\n",
              "    <tr>\n",
              "      <th>1517</th>\n",
              "      <td>2019-03-26</td>\n",
              "      <td>4045.979980</td>\n",
              "      <td>4054.320068</td>\n",
              "      <td>3932.790039</td>\n",
              "      <td>3942.219971</td>\n",
              "      <td>37132.400000</td>\n",
              "      <td>149005782.260000</td>\n",
              "      <td>3993.827515</td>\n",
              "    </tr>\n",
              "    <tr>\n",
              "      <th>1518</th>\n",
              "      <td>2019-03-27</td>\n",
              "      <td>4036.449951</td>\n",
              "      <td>4046.439941</td>\n",
              "      <td>4014.689941</td>\n",
              "      <td>4045.979980</td>\n",
              "      <td>25343.130000</td>\n",
              "      <td>102296341.190000</td>\n",
              "      <td>4035.889954</td>\n",
              "    </tr>\n",
              "    <tr>\n",
              "      <th>1519</th>\n",
              "      <td>2019-03-28</td>\n",
              "      <td>4111.379883</td>\n",
              "      <td>4122.890137</td>\n",
              "      <td>4031.219971</td>\n",
              "      <td>4036.449951</td>\n",
              "      <td>41843.310000</td>\n",
              "      <td>170915132.770000</td>\n",
              "      <td>4075.484985</td>\n",
              "    </tr>\n",
              "    <tr>\n",
              "      <th>1520</th>\n",
              "      <td>2019-03-29</td>\n",
              "      <td>4118.129883</td>\n",
              "      <td>4146.879883</td>\n",
              "      <td>4066.870117</td>\n",
              "      <td>4111.379883</td>\n",
              "      <td>24906.260000</td>\n",
              "      <td>102400533.820000</td>\n",
              "      <td>4110.814941</td>\n",
              "    </tr>\n",
              "    <tr>\n",
              "      <th>1521</th>\n",
              "      <td>2019-03-30</td>\n",
              "      <td>4110.810059</td>\n",
              "      <td>4129.430176</td>\n",
              "      <td>4108.140137</td>\n",
              "      <td>4118.129883</td>\n",
              "      <td>1974.760000</td>\n",
              "      <td>8138110.090000</td>\n",
              "      <td>4116.627563</td>\n",
              "    </tr>\n",
              "  </tbody>\n",
              "</table>\n",
              "</div>"
            ],
            "text/plain": [
              "           time       close        high         low        open   volumefrom  \\\n",
              "1517 2019-03-26 4045.979980 4054.320068 3932.790039 3942.219971 37132.400000   \n",
              "1518 2019-03-27 4036.449951 4046.439941 4014.689941 4045.979980 25343.130000   \n",
              "1519 2019-03-28 4111.379883 4122.890137 4031.219971 4036.449951 41843.310000   \n",
              "1520 2019-03-29 4118.129883 4146.879883 4066.870117 4111.379883 24906.260000   \n",
              "1521 2019-03-30 4110.810059 4129.430176 4108.140137 4118.129883  1974.760000   \n",
              "\n",
              "             volumeto  Weighted_Price  \n",
              "1517 149005782.260000     3993.827515  \n",
              "1518 102296341.190000     4035.889954  \n",
              "1519 170915132.770000     4075.484985  \n",
              "1520 102400533.820000     4110.814941  \n",
              "1521   8138110.090000     4116.627563  "
            ]
          },
          "metadata": {
            "tags": []
          },
          "execution_count": 20
        }
      ]
    },
    {
      "metadata": {
        "id": "MQ_7jZzq0oFy",
        "colab_type": "code",
        "colab": {}
      },
      "cell_type": "code",
      "source": [
        "from sklearn.preprocessing import MinMaxScaler\n",
        "from sklearn.preprocessing import LabelEncoder\n",
        "from sklearn.metrics import mean_squared_error\n",
        "\n",
        "\n",
        "data.drop(['time'],inplace=True,axis=1)\n",
        "scaler = MinMaxScaler(feature_range=(0, 1))\n",
        "scaled = scaler.fit_transform(data)"
      ],
      "execution_count": 0,
      "outputs": []
    },
    {
      "metadata": {
        "id": "2h1l3Zm53ekE",
        "colab_type": "code",
        "colab": {}
      },
      "cell_type": "code",
      "source": [
        "columns=data.columns\n",
        "\n",
        "def series_to_supervised(data, n_in=1, n_out=1, dropnan=True):\n",
        "\n",
        "\tn_vars = 1 if type(data) is list else data.shape[1]\n",
        "\tdf = pd.DataFrame(data)\n",
        "\tcols, names = list(), list()\n",
        "\t\n",
        "\tfor i in range(n_in, 0, -1):\n",
        "\t\tcols.append(df.shift(-i))\n",
        "\t\tnames += [(j) for j in columns]\n",
        "\t\n",
        "\tfor i in range(0, n_out):\n",
        "\t\tcols.append(df.shift(i))\n",
        "\t\tif i == 0:\n",
        "\t\t\tnames += [(\"output \"+j) for j in columns]\n",
        "\t\telse:\n",
        "\t\t\tnames += [('var%d(t+%d)' % (j+1, i)) for j in range(n_vars)]\n",
        "\t\n",
        "\tagg = pd.concat(cols, axis=1)\n",
        "\tagg.columns = names\n",
        "\t\n",
        "\tif dropnan:\n",
        "\t\tagg.dropna(inplace=True)\n",
        "\treturn agg"
      ],
      "execution_count": 0,
      "outputs": []
    },
    {
      "metadata": {
        "id": "cMEGFau130E_",
        "colab_type": "code",
        "colab": {}
      },
      "cell_type": "code",
      "source": [
        "reframed = series_to_supervised(scaled, 1, 1)\n",
        "ref=series_to_supervised(data.values,1,1)\n",
        "ref.drop(ref.columns[[7,8,9,10,11,12]], axis=1, inplace=True)"
      ],
      "execution_count": 0,
      "outputs": []
    },
    {
      "metadata": {
        "id": "lwK2hnER8ufY",
        "colab_type": "code",
        "outputId": "aa4f6f29-e212-4d33-9da2-722ce32a4a71",
        "colab": {
          "base_uri": "https://localhost:8080/",
          "height": 238
        }
      },
      "cell_type": "code",
      "source": [
        "reframed.drop(reframed.columns[[7,8,9,10,11,12]], axis=1, inplace=True)\n",
        "print(reframed.head())"
      ],
      "execution_count": 24,
      "outputs": [
        {
          "output_type": "stream",
          "text": [
            "     close     high      low     open  volumefrom  volumeto  Weighted_Price  \\\n",
            "0 0.000370 0.000670 0.001089 0.001067    0.077904  0.000732        0.000622   \n",
            "1 0.000724 0.000471 0.000725 0.000370    0.075983  0.000638        0.000396   \n",
            "2 0.001434 0.001034 0.001308 0.000724    0.071818  0.000623        0.000951   \n",
            "3 0.000835 0.001287 0.001490 0.001433    0.118474  0.001590        0.001088   \n",
            "4 0.000792 0.000434 0.001292 0.000835    0.103280  0.001189        0.000659   \n",
            "\n",
            "   output Weighted_Price  \n",
            "0               0.001091  \n",
            "1               0.000622  \n",
            "2               0.000396  \n",
            "3               0.000951  \n",
            "4               0.001088  \n"
          ],
          "name": "stdout"
        }
      ]
    },
    {
      "metadata": {
        "id": "jlhOHVsKI2Dn",
        "colab_type": "code",
        "outputId": "a5d3d5e2-accc-4f5f-e8b1-152cdf286c65",
        "colab": {
          "base_uri": "https://localhost:8080/",
          "height": 34
        }
      },
      "cell_type": "code",
      "source": [
        "values=reframed.values\n",
        "train = values[9:1360, :]\n",
        "test = values[1360:, :]\n",
        "train_X, train_y = train[:, :-1], train[:, -1]\n",
        "test_X, test_y = test[:, :-1], test[:, -1]\n",
        "train_X = train_X.reshape((train_X.shape[0], 1, train_X.shape[1]))\n",
        "test_X = test_X.reshape((test_X.shape[0], 1, test_X.shape[1]))\n",
        "print(train_X.shape, train_y.shape, test_X.shape, test_y.shape)"
      ],
      "execution_count": 25,
      "outputs": [
        {
          "output_type": "stream",
          "text": [
            "(1351, 1, 7) (1351,) (161, 1, 7) (161,)\n"
          ],
          "name": "stdout"
        }
      ]
    },
    {
      "metadata": {
        "id": "qOtmL3ciJWbF",
        "colab_type": "code",
        "outputId": "d51ac312-08f3-4d62-9b85-bea395ac18cd",
        "colab": {
          "base_uri": "https://localhost:8080/",
          "height": 2011
        }
      },
      "cell_type": "code",
      "source": [
        "\n",
        "model = Sequential()\n",
        "model.add(LSTM(80, input_shape=(train_X.shape[1], train_X.shape[2])))\n",
        "model.add(Dense(1))\n",
        "model.compile(loss='mean_absolute_error', optimizer='adam')\n",
        "history = model.fit(train_X, train_y, epochs=50, batch_size=32, validation_data=(test_X, test_y), verbose=2, shuffle=False)\n",
        "pyplot.plot(history.history['loss'], label='train_loss')\n",
        "pyplot.plot(history.history['val_loss'], label='test_loss')\n",
        "pyplot.legend()\n",
        "pyplot.xlabel('Epochs')\n",
        "pyplot.title('LSTM Train/Test')\n",
        "pyplot.show()\n",
        "pyplot.show()"
      ],
      "execution_count": 26,
      "outputs": [
        {
          "output_type": "stream",
          "text": [
            "Train on 1351 samples, validate on 161 samples\n",
            "Epoch 1/50\n",
            " - 1s - loss: 0.0544 - val_loss: 0.0358\n",
            "Epoch 2/50\n",
            " - 0s - loss: 0.0748 - val_loss: 0.0217\n",
            "Epoch 3/50\n",
            " - 0s - loss: 0.0212 - val_loss: 0.0200\n",
            "Epoch 4/50\n",
            " - 0s - loss: 0.0091 - val_loss: 0.0098\n",
            "Epoch 5/50\n",
            " - 0s - loss: 0.0144 - val_loss: 0.0311\n",
            "Epoch 6/50\n",
            " - 0s - loss: 0.0138 - val_loss: 0.0114\n",
            "Epoch 7/50\n",
            " - 0s - loss: 0.0131 - val_loss: 0.0203\n",
            "Epoch 8/50\n",
            " - 0s - loss: 0.0112 - val_loss: 0.0063\n",
            "Epoch 9/50\n",
            " - 0s - loss: 0.0120 - val_loss: 0.0194\n",
            "Epoch 10/50\n",
            " - 0s - loss: 0.0112 - val_loss: 0.0070\n",
            "Epoch 11/50\n",
            " - 0s - loss: 0.0129 - val_loss: 0.0188\n",
            "Epoch 12/50\n",
            " - 0s - loss: 0.0114 - val_loss: 0.0078\n",
            "Epoch 13/50\n",
            " - 0s - loss: 0.0139 - val_loss: 0.0225\n",
            "Epoch 14/50\n",
            " - 0s - loss: 0.0151 - val_loss: 0.0092\n",
            "Epoch 15/50\n",
            " - 0s - loss: 0.0173 - val_loss: 0.0271\n",
            "Epoch 16/50\n",
            " - 0s - loss: 0.0187 - val_loss: 0.0122\n",
            "Epoch 17/50\n",
            " - 0s - loss: 0.0129 - val_loss: 0.0161\n",
            "Epoch 18/50\n",
            " - 0s - loss: 0.0204 - val_loss: 0.0233\n",
            "Epoch 19/50\n",
            " - 0s - loss: 0.0137 - val_loss: 0.0076\n",
            "Epoch 20/50\n",
            " - 0s - loss: 0.0114 - val_loss: 0.0086\n",
            "Epoch 21/50\n",
            " - 0s - loss: 0.0145 - val_loss: 0.0223\n",
            "Epoch 22/50\n",
            " - 0s - loss: 0.0197 - val_loss: 0.0194\n",
            "Epoch 23/50\n",
            " - 0s - loss: 0.0114 - val_loss: 0.0085\n",
            "Epoch 24/50\n",
            " - 0s - loss: 0.0142 - val_loss: 0.0176\n",
            "Epoch 25/50\n",
            " - 0s - loss: 0.0176 - val_loss: 0.0190\n",
            "Epoch 26/50\n",
            " - 0s - loss: 0.0130 - val_loss: 0.0099\n",
            "Epoch 27/50\n",
            " - 0s - loss: 0.0159 - val_loss: 0.0212\n",
            "Epoch 28/50\n",
            " - 0s - loss: 0.0156 - val_loss: 0.0097\n",
            "Epoch 29/50\n",
            " - 0s - loss: 0.0114 - val_loss: 0.0154\n",
            "Epoch 30/50\n",
            " - 0s - loss: 0.0169 - val_loss: 0.0162\n",
            "Epoch 31/50\n",
            " - 0s - loss: 0.0125 - val_loss: 0.0100\n",
            "Epoch 32/50\n",
            " - 0s - loss: 0.0136 - val_loss: 0.0125\n",
            "Epoch 33/50\n",
            " - 0s - loss: 0.0154 - val_loss: 0.0180\n",
            "Epoch 34/50\n",
            " - 0s - loss: 0.0139 - val_loss: 0.0096\n",
            "Epoch 35/50\n",
            " - 0s - loss: 0.0119 - val_loss: 0.0145\n",
            "Epoch 36/50\n",
            " - 0s - loss: 0.0179 - val_loss: 0.0197\n",
            "Epoch 37/50\n",
            " - 0s - loss: 0.0109 - val_loss: 0.0080\n",
            "Epoch 38/50\n",
            " - 0s - loss: 0.0090 - val_loss: 0.0064\n",
            "Epoch 39/50\n",
            " - 0s - loss: 0.0068 - val_loss: 0.0051\n",
            "Epoch 40/50\n",
            " - 0s - loss: 0.0060 - val_loss: 0.0044\n",
            "Epoch 41/50\n",
            " - 0s - loss: 0.0052 - val_loss: 0.0043\n",
            "Epoch 42/50\n",
            " - 0s - loss: 0.0056 - val_loss: 0.0038\n",
            "Epoch 43/50\n",
            " - 0s - loss: 0.0098 - val_loss: 0.0088\n",
            "Epoch 44/50\n",
            " - 0s - loss: 0.0104 - val_loss: 0.0080\n",
            "Epoch 45/50\n",
            " - 0s - loss: 0.0185 - val_loss: 0.0223\n",
            "Epoch 46/50\n",
            " - 0s - loss: 0.0131 - val_loss: 0.0036\n",
            "Epoch 47/50\n",
            " - 0s - loss: 0.0079 - val_loss: 0.0043\n",
            "Epoch 48/50\n",
            " - 0s - loss: 0.0071 - val_loss: 0.0033\n",
            "Epoch 49/50\n",
            " - 0s - loss: 0.0055 - val_loss: 0.0031\n",
            "Epoch 50/50\n",
            " - 0s - loss: 0.0061 - val_loss: 0.0035\n"
          ],
          "name": "stdout"
        },
        {
          "output_type": "display_data",
          "data": {
            "image/png": "[encoded data removed]",
            "text/plain": [
              "<Figure size 432x288 with 1 Axes>"
            ]
          },
          "metadata": {
            "tags": []
          }
        }
      ]
    },
    {
      "metadata": {
        "id": "J2kolYYF5zV_",
        "colab_type": "code",
        "colab": {}
      },
      "cell_type": "code",
      "source": [
        "model.save(SYM+'model.h5')"
      ],
      "execution_count": 0,
      "outputs": []
    },
    {
      "metadata": {
        "id": "fD9zcDUhJj5o",
        "colab_type": "code",
        "outputId": "dc9f028a-50fa-489b-a59b-7f3393344181",
        "colab": {
          "base_uri": "https://localhost:8080/",
          "height": 34
        }
      },
      "cell_type": "code",
      "source": [
        "\n",
        "yhat = model.predict(test_X)\n",
        "test_X = test_X.reshape((test_X.shape[0], test_X.shape[2]))\n",
        "\n",
        "inv_yhat = np.concatenate((yhat, test_X[:, 1:]), axis=1)\n",
        "inv_yhat = scaler.inverse_transform(inv_yhat)\n",
        "inv_yhat = inv_yhat[:,0]\n",
        "\n",
        "test_y = test_y.reshape((len(test_y), 1))\n",
        "inv_y = np.concatenate((test_y, test_X[:, 1:]), axis=1)\n",
        "inv_y = scaler.inverse_transform(inv_y)\n",
        "inv_y = inv_y[:,0]\n",
        "\n",
        "rmse =sqrt(mean_squared_error(inv_y, inv_yhat))\n",
        "print('Test RMSE: %.3f' % rmse)"
      ],
      "execution_count": 28,
      "outputs": [
        {
          "output_type": "stream",
          "text": [
            "Test RMSE: 93.315\n"
          ],
          "name": "stdout"
        }
      ]
    },
    {
      "metadata": {
        "id": "9jknGf6AKEi-",
        "colab_type": "code",
        "outputId": "3e8e79cb-f29a-47da-e1d0-7a3799f1810f",
        "colab": {
          "base_uri": "https://localhost:8080/",
          "height": 102
        }
      },
      "cell_type": "code",
      "source": [
        "\n",
        "data_pred=np.array([[4110.810059,4129.430176,4108.140137,4118.129883,1974.76,8138110.090000\t,4116.627563]])\n",
        "\n",
        "print(data_pred.shape[0])\n",
        "a=scaler.fit_transform(data_pred)\n",
        "pre=model.predict(a.reshape(data_pred.shape[0],1,7))\n",
        "phat=np.concatenate((pre,a[:,1:]),axis=1)\n",
        "predicted=scaler.inverse_transform(phat)\n",
        "print(predicted)\n",
        "\n",
        "\n",
        "predicted_weight=[]\n",
        "date=[]\n",
        "difference=[]\n",
        "pr_change=[]\n",
        "date=pd.date_range('31-03-2019','31-03-2019',freq='D').sort_values(ascending=False)\n",
        "\n",
        "for i in range(data_pred.shape[0]):\n",
        "    predicted_weight.append(predicted[i,0])\n",
        "\n",
        "df=pd.DataFrame({'Date':date})\n",
        "df['Weighted_Price']=predicted_weight\n",
        "print(df)"
      ],
      "execution_count": 29,
      "outputs": [
        {
          "output_type": "stream",
          "text": [
            "1\n",
            "[[4.11080886e+03 4.12943018e+03 4.10814014e+03 4.11812988e+03\n",
            "  1.97476000e+03 8.13811009e+06 4.11662756e+03]]\n",
            "        Date  Weighted_Price\n",
            "0 2019-03-31     4110.808864\n"
          ],
          "name": "stdout"
        }
      ]
    },
    {
      "metadata": {
        "id": "UMS2_hP9kPQx",
        "colab_type": "code",
        "outputId": "5f35b0dd-9cda-4b90-da76-3adced75c8bd",
        "colab": {
          "base_uri": "https://localhost:8080/",
          "height": 235
        }
      },
      "cell_type": "code",
      "source": [
        "last_week_hist"
      ],
      "execution_count": 30,
      "outputs": [
        {
          "output_type": "execute_result",
          "data": {
            "text/html": [
              "<div>\n",
              "<style scoped>\n",
              "    .dataframe tbody tr th:only-of-type {\n",
              "        vertical-align: middle;\n",
              "    }\n",
              "\n",
              "    .dataframe tbody tr th {\n",
              "        vertical-align: top;\n",
              "    }\n",
              "\n",
              "    .dataframe thead th {\n",
              "        text-align: right;\n",
              "    }\n",
              "</style>\n",
              "<table border=\"1\" class=\"dataframe\">\n",
              "  <thead>\n",
              "    <tr style=\"text-align: right;\">\n",
              "      <th></th>\n",
              "      <th>time</th>\n",
              "      <th>close</th>\n",
              "      <th>high</th>\n",
              "      <th>low</th>\n",
              "      <th>open</th>\n",
              "      <th>volumefrom</th>\n",
              "      <th>volumeto</th>\n",
              "      <th>Weighted_Price</th>\n",
              "    </tr>\n",
              "  </thead>\n",
              "  <tbody>\n",
              "    <tr>\n",
              "      <th>1516</th>\n",
              "      <td>2019-03-25</td>\n",
              "      <td>3942.219971</td>\n",
              "      <td>3943.199951</td>\n",
              "      <td>3902.520020</td>\n",
              "      <td>3924.550049</td>\n",
              "      <td>23873.140000</td>\n",
              "      <td>93805733.550000</td>\n",
              "      <td>3928.122498</td>\n",
              "    </tr>\n",
              "    <tr>\n",
              "      <th>1517</th>\n",
              "      <td>2019-03-26</td>\n",
              "      <td>4045.979980</td>\n",
              "      <td>4054.320068</td>\n",
              "      <td>3932.790039</td>\n",
              "      <td>3942.219971</td>\n",
              "      <td>37132.400000</td>\n",
              "      <td>149005782.260000</td>\n",
              "      <td>3993.827515</td>\n",
              "    </tr>\n",
              "    <tr>\n",
              "      <th>1518</th>\n",
              "      <td>2019-03-27</td>\n",
              "      <td>4036.449951</td>\n",
              "      <td>4046.439941</td>\n",
              "      <td>4014.689941</td>\n",
              "      <td>4045.979980</td>\n",
              "      <td>25343.130000</td>\n",
              "      <td>102296341.190000</td>\n",
              "      <td>4035.889954</td>\n",
              "    </tr>\n",
              "    <tr>\n",
              "      <th>1519</th>\n",
              "      <td>2019-03-28</td>\n",
              "      <td>4111.379883</td>\n",
              "      <td>4122.890137</td>\n",
              "      <td>4031.219971</td>\n",
              "      <td>4036.449951</td>\n",
              "      <td>41843.310000</td>\n",
              "      <td>170915132.770000</td>\n",
              "      <td>4075.484985</td>\n",
              "    </tr>\n",
              "    <tr>\n",
              "      <th>1520</th>\n",
              "      <td>2019-03-29</td>\n",
              "      <td>4118.129883</td>\n",
              "      <td>4146.879883</td>\n",
              "      <td>4066.870117</td>\n",
              "      <td>4111.379883</td>\n",
              "      <td>24906.260000</td>\n",
              "      <td>102400533.820000</td>\n",
              "      <td>4110.814941</td>\n",
              "    </tr>\n",
              "    <tr>\n",
              "      <th>1521</th>\n",
              "      <td>2019-03-30</td>\n",
              "      <td>4110.810059</td>\n",
              "      <td>4129.430176</td>\n",
              "      <td>4108.140137</td>\n",
              "      <td>4118.129883</td>\n",
              "      <td>1974.760000</td>\n",
              "      <td>8138110.090000</td>\n",
              "      <td>4116.627563</td>\n",
              "    </tr>\n",
              "  </tbody>\n",
              "</table>\n",
              "</div>"
            ],
            "text/plain": [
              "           time       close        high         low        open   volumefrom  \\\n",
              "1516 2019-03-25 3942.219971 3943.199951 3902.520020 3924.550049 23873.140000   \n",
              "1517 2019-03-26 4045.979980 4054.320068 3932.790039 3942.219971 37132.400000   \n",
              "1518 2019-03-27 4036.449951 4046.439941 4014.689941 4045.979980 25343.130000   \n",
              "1519 2019-03-28 4111.379883 4122.890137 4031.219971 4036.449951 41843.310000   \n",
              "1520 2019-03-29 4118.129883 4146.879883 4066.870117 4111.379883 24906.260000   \n",
              "1521 2019-03-30 4110.810059 4129.430176 4108.140137 4118.129883  1974.760000   \n",
              "\n",
              "             volumeto  Weighted_Price  \n",
              "1516  93805733.550000     3928.122498  \n",
              "1517 149005782.260000     3993.827515  \n",
              "1518 102296341.190000     4035.889954  \n",
              "1519 170915132.770000     4075.484985  \n",
              "1520 102400533.820000     4110.814941  \n",
              "1521   8138110.090000     4116.627563  "
            ]
          },
          "metadata": {
            "tags": []
          },
          "execution_count": 30
        }
      ]
    },
    {
      "metadata": {
        "id": "YWwF5otoQWVO",
        "colab_type": "code",
        "outputId": "0fc081b0-0ecc-4531-80b4-786c4ee75366",
        "colab": {
          "base_uri": "https://localhost:8080/",
          "height": 266
        }
      },
      "cell_type": "code",
      "source": [
        "import matplotlib.pyplot as plt\n",
        "%matplotlib inline\n",
        "import seaborn as sns; sns.set_style(\"whitegrid\")\n",
        "from plotly import tools\n",
        "import plotly.offline as py\n",
        "py.init_notebook_mode(connected=True)\n",
        "import plotly.graph_objs as go\n",
        "\n",
        "\n",
        "last_week_hist.set_index('time', inplace=True)\n",
        "\n",
        "last_week_hist\n"
      ],
      "execution_count": 31,
      "outputs": [
        {
          "output_type": "display_data",
          "data": {
            "text/vnd.plotly.v1+html": "<script type=\"text/javascript\">window.PlotlyConfig = {MathJaxConfig: 'local'};</script><script type=\"text/javascript\">if (window.MathJax) {MathJax.Hub.Config({SVG: {font: \"STIX-Web\"}});}</script><script>requirejs.config({paths: { 'plotly': ['https://cdn.plot.ly/plotly-latest.min']},});if(!window._Plotly) {require(['plotly'],function(plotly) {window._Plotly=plotly;});}</script>",
            "text/html": [
              "<script type=\"text/javascript\">window.PlotlyConfig = {MathJaxConfig: 'local'};</script><script type=\"text/javascript\">if (window.MathJax) {MathJax.Hub.Config({SVG: {font: \"STIX-Web\"}});}</script><script>requirejs.config({paths: { 'plotly': ['https://cdn.plot.ly/plotly-latest.min']},});if(!window._Plotly) {require(['plotly'],function(plotly) {window._Plotly=plotly;});}</script>"
            ]
          },
          "metadata": {
            "tags": []
          }
        },
        {
          "output_type": "execute_result",
          "data": {
            "text/html": [
              "<div>\n",
              "<style scoped>\n",
              "    .dataframe tbody tr th:only-of-type {\n",
              "        vertical-align: middle;\n",
              "    }\n",
              "\n",
              "    .dataframe tbody tr th {\n",
              "        vertical-align: top;\n",
              "    }\n",
              "\n",
              "    .dataframe thead th {\n",
              "        text-align: right;\n",
              "    }\n",
              "</style>\n",
              "<table border=\"1\" class=\"dataframe\">\n",
              "  <thead>\n",
              "    <tr style=\"text-align: right;\">\n",
              "      <th></th>\n",
              "      <th>close</th>\n",
              "      <th>high</th>\n",
              "      <th>low</th>\n",
              "      <th>open</th>\n",
              "      <th>volumefrom</th>\n",
              "      <th>volumeto</th>\n",
              "      <th>Weighted_Price</th>\n",
              "    </tr>\n",
              "    <tr>\n",
              "      <th>time</th>\n",
              "      <th></th>\n",
              "      <th></th>\n",
              "      <th></th>\n",
              "      <th></th>\n",
              "      <th></th>\n",
              "      <th></th>\n",
              "      <th></th>\n",
              "    </tr>\n",
              "  </thead>\n",
              "  <tbody>\n",
              "    <tr>\n",
              "      <th>2019-03-25</th>\n",
              "      <td>3942.219971</td>\n",
              "      <td>3943.199951</td>\n",
              "      <td>3902.520020</td>\n",
              "      <td>3924.550049</td>\n",
              "      <td>23873.140000</td>\n",
              "      <td>93805733.550000</td>\n",
              "      <td>3928.122498</td>\n",
              "    </tr>\n",
              "    <tr>\n",
              "      <th>2019-03-26</th>\n",
              "      <td>4045.979980</td>\n",
              "      <td>4054.320068</td>\n",
              "      <td>3932.790039</td>\n",
              "      <td>3942.219971</td>\n",
              "      <td>37132.400000</td>\n",
              "      <td>149005782.260000</td>\n",
              "      <td>3993.827515</td>\n",
              "    </tr>\n",
              "    <tr>\n",
              "      <th>2019-03-27</th>\n",
              "      <td>4036.449951</td>\n",
              "      <td>4046.439941</td>\n",
              "      <td>4014.689941</td>\n",
              "      <td>4045.979980</td>\n",
              "      <td>25343.130000</td>\n",
              "      <td>102296341.190000</td>\n",
              "      <td>4035.889954</td>\n",
              "    </tr>\n",
              "    <tr>\n",
              "      <th>2019-03-28</th>\n",
              "      <td>4111.379883</td>\n",
              "      <td>4122.890137</td>\n",
              "      <td>4031.219971</td>\n",
              "      <td>4036.449951</td>\n",
              "      <td>41843.310000</td>\n",
              "      <td>170915132.770000</td>\n",
              "      <td>4075.484985</td>\n",
              "    </tr>\n",
              "    <tr>\n",
              "      <th>2019-03-29</th>\n",
              "      <td>4118.129883</td>\n",
              "      <td>4146.879883</td>\n",
              "      <td>4066.870117</td>\n",
              "      <td>4111.379883</td>\n",
              "      <td>24906.260000</td>\n",
              "      <td>102400533.820000</td>\n",
              "      <td>4110.814941</td>\n",
              "    </tr>\n",
              "    <tr>\n",
              "      <th>2019-03-30</th>\n",
              "      <td>4110.810059</td>\n",
              "      <td>4129.430176</td>\n",
              "      <td>4108.140137</td>\n",
              "      <td>4118.129883</td>\n",
              "      <td>1974.760000</td>\n",
              "      <td>8138110.090000</td>\n",
              "      <td>4116.627563</td>\n",
              "    </tr>\n",
              "  </tbody>\n",
              "</table>\n",
              "</div>"
            ],
            "text/plain": [
              "                 close        high         low        open   volumefrom  \\\n",
              "time                                                                      \n",
              "2019-03-25 3942.219971 3943.199951 3902.520020 3924.550049 23873.140000   \n",
              "2019-03-26 4045.979980 4054.320068 3932.790039 3942.219971 37132.400000   \n",
              "2019-03-27 4036.449951 4046.439941 4014.689941 4045.979980 25343.130000   \n",
              "2019-03-28 4111.379883 4122.890137 4031.219971 4036.449951 41843.310000   \n",
              "2019-03-29 4118.129883 4146.879883 4066.870117 4111.379883 24906.260000   \n",
              "2019-03-30 4110.810059 4129.430176 4108.140137 4118.129883  1974.760000   \n",
              "\n",
              "                   volumeto  Weighted_Price  \n",
              "time                                         \n",
              "2019-03-25  93805733.550000     3928.122498  \n",
              "2019-03-26 149005782.260000     3993.827515  \n",
              "2019-03-27 102296341.190000     4035.889954  \n",
              "2019-03-28 170915132.770000     4075.484985  \n",
              "2019-03-29 102400533.820000     4110.814941  \n",
              "2019-03-30   8138110.090000     4116.627563  "
            ]
          },
          "metadata": {
            "tags": []
          },
          "execution_count": 31
        }
      ]
    },
    {
      "metadata": {
        "id": "OhJ_RJB9gyl6",
        "colab_type": "code",
        "outputId": "a4cd67a7-7259-499a-a433-db726f6b92c5",
        "colab": {
          "base_uri": "https://localhost:8080/",
          "height": 136
        }
      },
      "cell_type": "code",
      "source": [
        "last_week_hist.drop(reframed.columns[[0,1,2,3,4,5]], axis=1, inplace=True)"
      ],
      "execution_count": 32,
      "outputs": [
        {
          "output_type": "stream",
          "text": [
            "/usr/local/lib/python3.6/dist-packages/pandas/core/frame.py:3697: SettingWithCopyWarning:\n",
            "\n",
            "\n",
            "A value is trying to be set on a copy of a slice from a DataFrame\n",
            "\n",
            "See the caveats in the documentation: http://pandas.pydata.org/pandas-docs/stable/indexing.html#indexing-view-versus-copy\n",
            "\n"
          ],
          "name": "stderr"
        }
      ]
    },
    {
      "metadata": {
        "id": "6nHAx6BmiVk5",
        "colab_type": "code",
        "outputId": "405fcf67-913a-4d8c-83c2-f135a490c4f9",
        "colab": {
          "base_uri": "https://localhost:8080/",
          "height": 266
        }
      },
      "cell_type": "code",
      "source": [
        "last_week_hist = last_week_hist.reset_index().rename(columns={'time': 'Date'})\n",
        "verticalStack = pd.concat([last_week_hist, df], axis=0)\n",
        "verticalStack"
      ],
      "execution_count": 33,
      "outputs": [
        {
          "output_type": "execute_result",
          "data": {
            "text/html": [
              "<div>\n",
              "<style scoped>\n",
              "    .dataframe tbody tr th:only-of-type {\n",
              "        vertical-align: middle;\n",
              "    }\n",
              "\n",
              "    .dataframe tbody tr th {\n",
              "        vertical-align: top;\n",
              "    }\n",
              "\n",
              "    .dataframe thead th {\n",
              "        text-align: right;\n",
              "    }\n",
              "</style>\n",
              "<table border=\"1\" class=\"dataframe\">\n",
              "  <thead>\n",
              "    <tr style=\"text-align: right;\">\n",
              "      <th></th>\n",
              "      <th>Date</th>\n",
              "      <th>Weighted_Price</th>\n",
              "    </tr>\n",
              "  </thead>\n",
              "  <tbody>\n",
              "    <tr>\n",
              "      <th>0</th>\n",
              "      <td>2019-03-25</td>\n",
              "      <td>3928.122498</td>\n",
              "    </tr>\n",
              "    <tr>\n",
              "      <th>1</th>\n",
              "      <td>2019-03-26</td>\n",
              "      <td>3993.827515</td>\n",
              "    </tr>\n",
              "    <tr>\n",
              "      <th>2</th>\n",
              "      <td>2019-03-27</td>\n",
              "      <td>4035.889954</td>\n",
              "    </tr>\n",
              "    <tr>\n",
              "      <th>3</th>\n",
              "      <td>2019-03-28</td>\n",
              "      <td>4075.484985</td>\n",
              "    </tr>\n",
              "    <tr>\n",
              "      <th>4</th>\n",
              "      <td>2019-03-29</td>\n",
              "      <td>4110.814941</td>\n",
              "    </tr>\n",
              "    <tr>\n",
              "      <th>5</th>\n",
              "      <td>2019-03-30</td>\n",
              "      <td>4116.627563</td>\n",
              "    </tr>\n",
              "    <tr>\n",
              "      <th>0</th>\n",
              "      <td>2019-03-31</td>\n",
              "      <td>4110.808864</td>\n",
              "    </tr>\n",
              "  </tbody>\n",
              "</table>\n",
              "</div>"
            ],
            "text/plain": [
              "        Date  Weighted_Price\n",
              "0 2019-03-25     3928.122498\n",
              "1 2019-03-26     3993.827515\n",
              "2 2019-03-27     4035.889954\n",
              "3 2019-03-28     4075.484985\n",
              "4 2019-03-29     4110.814941\n",
              "5 2019-03-30     4116.627563\n",
              "0 2019-03-31     4110.808864"
            ]
          },
          "metadata": {
            "tags": []
          },
          "execution_count": 33
        }
      ]
    },
    {
      "metadata": {
        "id": "hiryfcb4kpYI",
        "colab_type": "code",
        "outputId": "e32a9c53-f833-4034-f2dc-22af51cb0664",
        "colab": {
          "base_uri": "https://localhost:8080/",
          "height": 518
        }
      },
      "cell_type": "code",
      "source": [
        "import numpy as np\n",
        "from matplotlib import rc,rcParams\n",
        "from pylab import *\n",
        "\n",
        "verticalStack\n",
        "\n",
        "plt.figure(figsize=(15,8))\n",
        "(verticalStack['Weighted_Price'][0:6]).plot(color='darkorange', label='Historical Price', linestyle='--', marker='o')\n",
        "(verticalStack['Weighted_Price'][5:]).plot(color='red', label='Predicted Price',linestyle='--', marker='o')\n",
        "(verticalStack['Weighted_Price'][0:3]).plot(color='green', label='Historical Price', linestyle='--', marker='o')\n",
        "(verticalStack['Weighted_Price'][4:]).plot(color='blue', label='Predicted Price',linestyle='--', marker='o')\n",
        "\n",
        "plt.ylim(bottom=3900)\n",
        "plt.grid()\n",
        "plt.xlabel('Time', fontweight='bold',fontsize=14)\n",
        "plt.ylabel('Price in USD', fontweight='bold',fontsize=14)\n",
        "plt.title('Prediction on 31 Mar 2019, Average Price of Bitcoin', fontweight='bold',fontsize=14)\n",
        "plt.legend()\n",
        "plt.show()"
      ],
      "execution_count": 34,
      "outputs": [
        {
          "output_type": "display_data",
          "data": {
            "image/png": "[encoded data removed]",
            "text/plain": [
              "<Figure size 1080x576 with 1 Axes>"
            ]
          },
          "metadata": {
            "tags": []
          }
        }
      ]
    },
    {
      "metadata": {
        "id": "5mc6guAhmtPd",
        "colab_type": "code",
        "colab": {}
      },
      "cell_type": "code",
      "source": [
        ""
      ],
      "execution_count": 0,
      "outputs": []
    }
  ]
}