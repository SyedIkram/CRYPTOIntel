{
 "cells": [
  {
   "cell_type": "code",
   "execution_count": 5,
   "metadata": {},
   "outputs": [],
   "source": [
    "from cassandra.cluster import Cluster\n",
    "from cassandra.query import SimpleStatement\n",
    "import pandas as pd"
   ]
  },
  {
   "cell_type": "code",
   "execution_count": 6,
   "metadata": {},
   "outputs": [],
   "source": [
    "cluster = Cluster(['127.0.0.1'],load_balancing_policy=None)\n",
    "session = cluster.connect()\n",
    "session.set_keyspace('crypton') "
   ]
  },
  {
   "cell_type": "code",
   "execution_count": 10,
   "metadata": {},
   "outputs": [],
   "source": [
    "top10id = ['1182','5031','7605','3808','202330','166503','321992','4614','127356','27368']\n",
    "top10 =   ['BTC' ,'XRP' ,'ETH' ,'LTC' ,'BCH'   ,'EOS'   ,'ADA'   ,'XLM' ,'IOT'   ,'NEO']\n",
    " \n",
    "for i in range(len(top10)):\n",
    "    def cassandraToCsv():\n",
    "        query = \"SELECT * FROM all_coins_hist_data WHERE id=\"+top10id[i]+\";\"\n",
    "        future = session.execute(query)\n",
    "\n",
    "        return future\n",
    "\n",
    "    pd.DataFrame(list(cassandraToCsv())).to_csv(top10[i]+'HistData.csv',index=False)"
   ]
  },
  {
   "cell_type": "code",
   "execution_count": null,
   "metadata": {},
   "outputs": [],
   "source": []
  }
 ],
 "metadata": {
  "kernelspec": {
   "display_name": "Python 3",
   "language": "python",
   "name": "python3"
  },
  "language_info": {
   "codemirror_mode": {
    "name": "ipython",
    "version": 3
   },
   "file_extension": ".py",
   "mimetype": "text/x-python",
   "name": "python",
   "nbconvert_exporter": "python",
   "pygments_lexer": "ipython3",
   "version": "3.6.8"
  }
 },
 "nbformat": 4,
 "nbformat_minor": 2
}
